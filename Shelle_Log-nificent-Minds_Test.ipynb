{
 "cells": [
  {
   "cell_type": "code",
   "execution_count": null,
   "id": "f1afed1e-1563-4349-93f8-469e03072c6c",
   "metadata": {},
   "outputs": [],
   "source": []
  },
  {
   "cell_type": "code",
   "execution_count": 1,
   "id": "92e10161-9de7-4fc7-96d6-c24d7ddd5361",
   "metadata": {},
   "outputs": [],
   "source": [
    "from pathlib import Path\n",
    "import lasio\n",
    "import matplotlib.pyplot as plt\n",
    "import csv"
   ]
  },
  {
   "cell_type": "markdown",
   "id": "bd67e1cb-9699-4229-9c7c-0b8eb2cff4b8",
   "metadata": {},
   "source": [
    "## Loading all LAS files in Data\\LASs\n",
    "### counting total number of LAS files\n",
    "### Extract first 10 well logs headers, as save as a txt for Shelle"
   ]
  },
  {
   "cell_type": "code",
   "execution_count": 2,
   "id": "4bb457af-c62a-4072-9128-e5de15fb3841",
   "metadata": {},
   "outputs": [
    {
     "name": "stdout",
     "output_type": "stream",
     "text": [
      "Total 29 LAS files in Data\\LASs\n"
     ]
    }
   ],
   "source": [
    "input_path = \"Data\\\\LASs\"\n",
    "prefix = \"*.las\"\n",
    "files = sorted(Path(input_path).glob(prefix))\n",
    "#print(files)\n",
    "total_files = 0\n",
    "list_of_LAS_files = []\n",
    "for fp in files:\n",
    "    #print(fp.resolve())\n",
    "    list_of_LAS_files.append(str(fp.resolve()))\n",
    "    total_files += 1\n",
    "print(f\"Total {total_files} LAS files in {input_path}\")"
   ]
  },
  {
   "cell_type": "code",
   "execution_count": 3,
   "id": "adc71eb8-240d-4b7d-b664-248cd07a0835",
   "metadata": {},
   "outputs": [
    {
     "name": "stdout",
     "output_type": "stream",
     "text": [
      "CPU times: total: 36.4 s\n",
      "Wall time: 40.7 s\n"
     ]
    }
   ],
   "source": [
    "%%time\n",
    "all_well_info = []\n",
    "n = 1\n",
    "for las_file in list_of_LAS_files:\n",
    "    las =  lasio.read(las_file)\n",
    "    well_info = las.well.dictview()\n",
    "    all_well_info.append(well_info)\n",
    "    # print(n, las_file)\n",
    "    # print(las.well)\n",
    "    n += 1"
   ]
  },
  {
   "cell_type": "code",
   "execution_count": 6,
   "id": "71ffae0a-34b2-4f65-bc8b-569fa9322e27",
   "metadata": {},
   "outputs": [
    {
     "name": "stdout",
     "output_type": "stream",
     "text": [
      "List has been saved to temp/all_well_info.txt\n"
     ]
    }
   ],
   "source": [
    "# all_well_info\n",
    "file_path = \"temp/all_well_info.txt\"\n",
    "\n",
    "# Open the file in write mode\n",
    "with open(file_path, \"w\", encoding=\"utf-8\") as file:\n",
    "    # Add newline characters to each item and write all at once\n",
    "    for n in range(5):  #len(all_well_info)): \n",
    "    #only access first 10 files due to Token size limitation\n",
    "        for key, value in all_well_info[n].items():\n",
    "            file.write(f\"{key}, {value}\" + \"\\n\")\n",
    "            #file.write(item + \"\\n\")\n",
    "\n",
    "print(f\"List has been saved to {file_path}\")"
   ]
  },
  {
   "cell_type": "code",
   "execution_count": 7,
   "id": "fc37cb8c-259d-44a1-9423-097c7311619f",
   "metadata": {},
   "outputs": [
    {
     "name": "stderr",
     "output_type": "stream",
     "text": [
      "ERROR:root:Error tokenizing data. C error: Expected 2 fields in line 151, saw 3\n",
      "Traceback (most recent call last):\n",
      "  File \"C:\\Users\\Chuen-Song.Chen\\AppData\\Local\\Programs\\Python\\Python312\\Lib\\site-packages\\pyshelle\\client.py\", line 707, in is_csv\n",
      "    pd.read_csv(file__)\n",
      "  File \"C:\\Users\\Chuen-Song.Chen\\AppData\\Local\\Programs\\Python\\Python312\\Lib\\site-packages\\pandas\\io\\parsers\\readers.py\", line 1026, in read_csv\n",
      "    return _read(filepath_or_buffer, kwds)\n",
      "           ^^^^^^^^^^^^^^^^^^^^^^^^^^^^^^^\n",
      "  File \"C:\\Users\\Chuen-Song.Chen\\AppData\\Local\\Programs\\Python\\Python312\\Lib\\site-packages\\pandas\\io\\parsers\\readers.py\", line 626, in _read\n",
      "    return parser.read(nrows)\n",
      "           ^^^^^^^^^^^^^^^^^^\n",
      "  File \"C:\\Users\\Chuen-Song.Chen\\AppData\\Local\\Programs\\Python\\Python312\\Lib\\site-packages\\pandas\\io\\parsers\\readers.py\", line 1923, in read\n",
      "    ) = self._engine.read(  # type: ignore[attr-defined]\n",
      "        ^^^^^^^^^^^^^^^^^^^^^^^^^^^^^^^^^^^^^^^^^^^^^^^^\n",
      "  File \"C:\\Users\\Chuen-Song.Chen\\AppData\\Local\\Programs\\Python\\Python312\\Lib\\site-packages\\pandas\\io\\parsers\\c_parser_wrapper.py\", line 234, in read\n",
      "    chunks = self._reader.read_low_memory(nrows)\n",
      "             ^^^^^^^^^^^^^^^^^^^^^^^^^^^^^^^^^^^\n",
      "  File \"parsers.pyx\", line 838, in pandas._libs.parsers.TextReader.read_low_memory\n",
      "  File \"parsers.pyx\", line 905, in pandas._libs.parsers.TextReader._read_rows\n",
      "  File \"parsers.pyx\", line 874, in pandas._libs.parsers.TextReader._tokenize_rows\n",
      "  File \"parsers.pyx\", line 891, in pandas._libs.parsers.TextReader._check_tokenize_status\n",
      "  File \"parsers.pyx\", line 2061, in pandas._libs.parsers.raise_parser_error\n",
      "pandas.errors.ParserError: Error tokenizing data. C error: Expected 2 fields in line 151, saw 3\n",
      "\n"
     ]
    },
    {
     "name": "stdout",
     "output_type": "stream",
     "text": [
      "None\n",
      "Certainly! Here is a summary of the \"WELL\" names and their corresponding \"STOP\" depths:\n",
      "\n",
      "1. **WELL: MBRNE-10H1**\n",
      "   - STOP: 5374.0566001\n",
      "\n",
      "2. **WELL: MBRNE-11H1**\n",
      "   - STOP: 5182.0572\n",
      "\n",
      "3. **WELL: MBRNE-12H1**\n",
      "   - STOP: 5301.52661132813\n",
      "\n",
      "4. **WELL: MBRNE-13H1**\n",
      "   - STOP: 5400.9036\n",
      "\n",
      "5. **WELL: MBRNE-14H1**\n",
      "   - STOP: 5389.9308\n"
     ]
    }
   ],
   "source": [
    "from pyshelle import ShelleClient\n",
    "import time\n",
    "import os\n",
    "\n",
    "APPLICATION_ID = 3\n",
    "CLIENT_ID = 'd0782ceb-8ae1-4123-a674-39e62981f33b'\n",
    "CLIENT_PASS = 'b7f13ccd-0ea7-469b-a222-a41a430450bd'\n",
    "CLIENT_SECRET = '82b6dd1e-58fe-4363-b75a-0b85179015a8'\n",
    "SUBSCRIPTION_KEY = 'ea08e1381ab94c779e5c4937ccb6162e'\n",
    "ENDPOINT = 'https://nprd-sbtst-shelleapimgmt.azure-api.net/backend'\n",
    "\n",
    "client = ShelleClient(APPLICATION_ID, \n",
    "                      CLIENT_ID,\n",
    "                      CLIENT_PASS, \n",
    "                      CLIENT_SECRET,\n",
    "                      subscription_key=SUBSCRIPTION_KEY,                                                         \n",
    "                      endpoint=ENDPOINT) \n",
    "\n",
    "file_name = \"temp\\\\all_well_info.txt\"     \n",
    "input_dir = \"C:\\\\Users\\\\Chuen-Song.Chen\\\\Log-nificent-Minds\"\n",
    "response = client.upload_file(file_=os.path.join(input_dir, file_name))     \n",
    "if not response.error:         \n",
    "    print(response.message)\n",
    "overrides = {\n",
    "        \"prompt\": \"Answer every questions with a joke in the end\",\n",
    "        \"temperature\": 0.3,\n",
    "        \"top_p\": 0.7\n",
    "}\n",
    "\n",
    "\n",
    "response = client.get_response(prompt='Could you summary all \"WELL\" and \"STOP\" DEPTH?',\n",
    "                               overrides=overrides)     \n",
    "\n",
    "client.new_conversation()\n",
    "\n",
    "if not response.error:         \n",
    "    print(response.message)\n",
    "     "
   ]
  },
  {
   "cell_type": "code",
   "execution_count": 8,
   "id": "55489843-c3d3-4aa4-96d0-eda551125d07",
   "metadata": {},
   "outputs": [
    {
     "name": "stderr",
     "output_type": "stream",
     "text": [
      "ERROR:root:Error tokenizing data. C error: Expected 2 fields in line 151, saw 3\n",
      "Traceback (most recent call last):\n",
      "  File \"C:\\Users\\Chuen-Song.Chen\\AppData\\Local\\Programs\\Python\\Python312\\Lib\\site-packages\\pyshelle\\client.py\", line 707, in is_csv\n",
      "    pd.read_csv(file__)\n",
      "  File \"C:\\Users\\Chuen-Song.Chen\\AppData\\Local\\Programs\\Python\\Python312\\Lib\\site-packages\\pandas\\io\\parsers\\readers.py\", line 1026, in read_csv\n",
      "    return _read(filepath_or_buffer, kwds)\n",
      "           ^^^^^^^^^^^^^^^^^^^^^^^^^^^^^^^\n",
      "  File \"C:\\Users\\Chuen-Song.Chen\\AppData\\Local\\Programs\\Python\\Python312\\Lib\\site-packages\\pandas\\io\\parsers\\readers.py\", line 626, in _read\n",
      "    return parser.read(nrows)\n",
      "           ^^^^^^^^^^^^^^^^^^\n",
      "  File \"C:\\Users\\Chuen-Song.Chen\\AppData\\Local\\Programs\\Python\\Python312\\Lib\\site-packages\\pandas\\io\\parsers\\readers.py\", line 1923, in read\n",
      "    ) = self._engine.read(  # type: ignore[attr-defined]\n",
      "        ^^^^^^^^^^^^^^^^^^^^^^^^^^^^^^^^^^^^^^^^^^^^^^^^\n",
      "  File \"C:\\Users\\Chuen-Song.Chen\\AppData\\Local\\Programs\\Python\\Python312\\Lib\\site-packages\\pandas\\io\\parsers\\c_parser_wrapper.py\", line 234, in read\n",
      "    chunks = self._reader.read_low_memory(nrows)\n",
      "             ^^^^^^^^^^^^^^^^^^^^^^^^^^^^^^^^^^^\n",
      "  File \"parsers.pyx\", line 838, in pandas._libs.parsers.TextReader.read_low_memory\n",
      "  File \"parsers.pyx\", line 905, in pandas._libs.parsers.TextReader._read_rows\n",
      "  File \"parsers.pyx\", line 874, in pandas._libs.parsers.TextReader._tokenize_rows\n",
      "  File \"parsers.pyx\", line 891, in pandas._libs.parsers.TextReader._check_tokenize_status\n",
      "  File \"parsers.pyx\", line 2061, in pandas._libs.parsers.raise_parser_error\n",
      "pandas.errors.ParserError: Error tokenizing data. C error: Expected 2 fields in line 151, saw 3\n",
      "\n"
     ]
    },
    {
     "name": "stdout",
     "output_type": "stream",
     "text": [
      "None\n",
      "Here are the \"WELL\" names and their corresponding \"STOP\" depths:\n",
      "\n",
      "1. **MBRNE-10H1**: 5374.0566001\n",
      "2. **MBRNE-11H1**: 5182.0572\n",
      "3. **MBRNE-12H1**: 5301.52661132813\n",
      "4. **MBRNE-13H1**: 5400.9036\n",
      "5. **MBRNE-14H1**: 5389.9308\n"
     ]
    }
   ],
   "source": [
    "from pyshelle import ShelleClient\n",
    "import time\n",
    "import os\n",
    "\n",
    "APPLICATION_ID = 3\n",
    "CLIENT_ID = 'd0782ceb-8ae1-4123-a674-39e62981f33b'\n",
    "CLIENT_PASS = 'b7f13ccd-0ea7-469b-a222-a41a430450bd'\n",
    "CLIENT_SECRET = '82b6dd1e-58fe-4363-b75a-0b85179015a8'\n",
    "SUBSCRIPTION_KEY = 'ea08e1381ab94c779e5c4937ccb6162e'\n",
    "ENDPOINT = 'https://nprd-sbtst-shelleapimgmt.azure-api.net/backend'\n",
    "\n",
    "client = ShelleClient(APPLICATION_ID, \n",
    "                      CLIENT_ID,\n",
    "                      CLIENT_PASS, \n",
    "                      CLIENT_SECRET,\n",
    "                      subscription_key=SUBSCRIPTION_KEY,                                                         \n",
    "                      endpoint=ENDPOINT) \n",
    "\n",
    "file_name = \"temp\\\\all_well_info.txt\"     \n",
    "input_dir = \"C:\\\\Users\\\\Chuen-Song.Chen\\\\Log-nificent-Minds\" #\".\\\\\" #\"C:\\\\Users\\\\user\\\\Desktop\\\\shelle\\\\input\"\n",
    "response = client.upload_file(file_=os.path.join(input_dir, file_name))     \n",
    "if not response.error:         \n",
    "    print(response.message)\n",
    "overrides = {\n",
    "        \"prompt\": \"Answer every questions with a joke in the end\",\n",
    "        \"temperature\": 0.3,\n",
    "        \"top_p\": 0.7\n",
    "}\n",
    "\n",
    "prompting_text = 'Could you summary all \"WELL\" and \"STOP\" DEPTH?, Please not to hallucinate ad it is ok to say I do not know.'\n",
    "response = client.get_response(prompt=prompting_text  , overrides=overrides)     \n",
    "\n",
    "client.new_conversation()\n",
    "\n",
    "if not response.error:         \n",
    "    print(response.message)"
   ]
  },
  {
   "cell_type": "code",
   "execution_count": null,
   "id": "d7cb4a1c-dd74-458b-9217-301b3e8dd20b",
   "metadata": {},
   "outputs": [],
   "source": []
  },
  {
   "cell_type": "code",
   "execution_count": null,
   "id": "4d0f10b5-2d3e-4160-9cde-40883a4de416",
   "metadata": {},
   "outputs": [],
   "source": []
  },
  {
   "cell_type": "code",
   "execution_count": null,
   "id": "e336ae5c-9db2-4f17-a0e2-ecae4f7a1b9c",
   "metadata": {},
   "outputs": [],
   "source": []
  }
 ],
 "metadata": {
  "kernelspec": {
   "display_name": "Python 3 (ipykernel)",
   "language": "python",
   "name": "python3"
  },
  "language_info": {
   "codemirror_mode": {
    "name": "ipython",
    "version": 3
   },
   "file_extension": ".py",
   "mimetype": "text/x-python",
   "name": "python",
   "nbconvert_exporter": "python",
   "pygments_lexer": "ipython3",
   "version": "3.12.5"
  }
 },
 "nbformat": 4,
 "nbformat_minor": 5
}
